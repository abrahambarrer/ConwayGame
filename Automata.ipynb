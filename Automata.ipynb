{
 "cells": [
  {
   "cell_type": "markdown",
   "id": "db333d26-f626-47f1-be14-f6b7e28d7158",
   "metadata": {},
   "source": [
    "# Autómatas celulares: juego de la vida de Conway\n",
    "Los autómatas celulares datan de los años 1950, sin embargo su popularización empezo en 1970 cuando John Conway reveló al público el \"Juego de la Vida\". El autómata celular es un modelo matemático que consiste en un conjunto de celdas que cambian de estado de un momento a otro. Las propiedades que en un inicio son locales a un conjunto de celdas se pueden propagar por el sistema en general. **Berlekamp et al. (1982) demostró junto con el mismo Conway la universidad del Juego de la Vida, que era posible construir una computadora con almacenamiento finito y es por tanto una Máquina de Turing**.\n",
    "\n",
    "## Definición\n",
    "Los autómatas celulares constan de los siguientes elementos:\n",
    "* **Un espacio regular**: los autómatas celulares requieren de un espacio n-dimensional, por ejemplo el plano entero $Z\\times Z$. El espacio puede ser finito o infinito.\n",
    "* **Conjunto de estados**: un conjunto de estados finitos. Cada célula se encuentra en un estado del conjunto. En el juego de Conway se considera el conjunto $\\{1,0\\}$, interpretado en la célula como viva o muerta.\n",
    "* **Estado inicial**: es la configuración inicial de los estados de las células en el espacio regular.\n",
    "* **Vecindades**: se define como la vecindad de una célula como el conjunto de células que se pueden considerar adyacentes. En el juego de conway se consideran adyacentes a una célula (gris) las 8 células de alrededor que forman un cuadrado (blanco).\n",
    "  <div style=\"text-align:center;\">\n",
    "  <img src=\"imagenes/vecindad.png\"width=\"200\">\n",
    "  </div>\n",
    "* **La función de transición del autómata**: es la misma para todas las células y depende de:\n",
    "    * El estado actual de la célula.\n",
    "    * El número de células vivas en su vecindad (entre 0 y 8).\n",
    "\n",
    "    Se puede describir con la siguiente tabla:\n",
    "|Estado actual\\Estado de vecinos|0|1|2|3|4|5|6|7|8|\n",
    "|-------------------------------|-|-|-|-|-|-|-|-|-|\n",
    "|                0              |0|0|0|1|0|0|0|0|0|\n",
    "|                1              |0|0|1|1|0|0|0|0|0|"
   ]
  },
  {
   "cell_type": "markdown",
   "id": "ac6e5f55-ba35-44ff-8a37-c1c15238ec59",
   "metadata": {},
   "source": [
    "# Implementación\n",
    "Primero importamos los módulos necesarios:\n",
    "* pygame: para crear la ventana principal y el bucle de juego.\n",
    "* numpy: para generar la matriz vacía o plano principal de juego.\n",
    "* time: para regular el tiempo entre las generaciones."
   ]
  },
  {
   "cell_type": "code",
   "execution_count": 1,
   "id": "c487de55-604a-42a4-ad21-aa3309f70356",
   "metadata": {},
   "outputs": [
    {
     "name": "stdout",
     "output_type": "stream",
     "text": [
      "pygame 2.5.2 (SDL 2.28.3, Python 3.11.4)\n",
      "Hello from the pygame community. https://www.pygame.org/contribute.html\n"
     ]
    }
   ],
   "source": [
    "import pygame as pg\n",
    "import numpy as np\n",
    "import time"
   ]
  },
  {
   "cell_type": "markdown",
   "id": "e0ed4b6a-53c7-4055-b7d3-210e3205e44d",
   "metadata": {},
   "source": [
    "La implementación se puede entender de la siguiente manera:\n",
    "* El espacio regular junto con los estados de cada célula se representa con una matriz de orden $50$, que inicialmente se encuentran sus valores en 0 (todas muertas).\n",
    "* En un periodo $n$ se recorre cada célula $x$ -un elemento de la matriz-, y se obtiene la suma de los estados de sus vecinos. Según la cantidad de vecinos se asignará el estado de $x$ en el siguiente periodo $n+1$ según las reglas de transición. Para ello, el recorrido de cada célula se realiza en la matriz `estado`, y los cambios en el siguiente periodo se almacenan en la matriz `nuevo_estado`.\n",
    "* El estado de cada célula se representa con un color: blanco para $1$ y gris oscuro para $0$. Un polígono blanco u oscuro es dibujado después de revisar su vecindad.\n",
    "* La frontera en los bordes de la ventana se considera toroidal, esto es, los cambios en un extremo afectaran, si es necesario, al extremo opuesto.\n",
    "\n",
    "En la implementación, además, se agregan detalles para experimentar con el autómata, como la posibilidad de modificar los estados directamente en el espacio y poner en \"pausa\" las transiciones al presionar alguna tecla."
   ]
  },
  {
   "cell_type": "code",
   "execution_count": 2,
   "id": "6d52eb67-8cfb-4a0e-9102-cf7a99859acb",
   "metadata": {},
   "outputs": [],
   "source": [
    "# Constante\n",
    "FONDO = (25, 25, 25)\n",
    "# Inicio\n",
    "pg.init()\n",
    "# Pantalla\n",
    "ancho = 600\n",
    "alto = 600\n",
    "# Celdas\n",
    "nxC, nyC = 50, 50\n",
    "dim_ancho = ancho / nxC\n",
    "dim_alto = alto / nyC\n",
    "# Estados\n",
    "estado = np.zeros((nxC, nyC)) # Matriz\n",
    "# Pausa\n",
    "pausa = False\n",
    "# Detalles de pantalla\n",
    "pantalla = pg.display.set_mode((alto,ancho)) # Tamaño de ventana\n",
    "pantalla.fill(FONDO) # Colorear ventana\n",
    "pg.display.set_caption('Conway\\'s Game') # Cambiar titulo\n",
    "\n",
    "run = True\n",
    "while run:\n",
    "    # Copia\n",
    "    nuevo_estado = np.copy(estado)\n",
    "    # Superponer fondo\n",
    "    pantalla.fill(FONDO)\n",
    "    # Pausar ejecucion\n",
    "    time.sleep(0.1)\n",
    "    # Manejar eventos\n",
    "    for event in pg.event.get():\n",
    "        if event.type == pg.QUIT:\n",
    "            run = False\n",
    "        elif event.type == pg.KEYDOWN:\n",
    "            pausa = not pausa\n",
    "\n",
    "        clic = [int(val) for val in pg.mouse.get_pressed()] # Convertir eventos True / False en 1 y 0\n",
    "        if sum(clic) > 0: # Verificar si hay algun evento\n",
    "            posX, posY = pg.mouse.get_pos()\n",
    "            celX, celY = int(np.floor(posX / dim_ancho)), int(np.floor(posY / dim_alto)) # Obtener coordenadas de la celula\n",
    "            nuevo_estado[celX, celY] = not clic[2] # Si no es el clic derecho, asignar 1\n",
    "            \n",
    "    for y in range(0, nxC):\n",
    "        for x in range(0, nyC):\n",
    "\n",
    "            if not pausa:\n",
    "                # Vecinos\n",
    "                vecinos = estado[(x - 1) % nxC, (y - 1) % nyC] + \\\n",
    "                          estado[(x) % nxC, (y - 1) % nyC]+\\\n",
    "                          estado[(x + 1) % nxC, (y - 1) % nyC] + \\\n",
    "                          estado[(x - 1) % nxC, (y) % nyC]+\\\n",
    "                          estado[(x + 1) % nxC, (y) % nyC] + \\\n",
    "                          estado[(x - 1) % nxC, (y + 1) % nyC] + \\\n",
    "                          estado[(x) % nxC, (y + 1) % nyC] + \\\n",
    "                          estado[(x + 1) % nxC, (y + 1) % nyC]\n",
    "                \n",
    "                # Regla 1: Celula con 3 vecinas revive\n",
    "                if estado[x,y] == 0 and vecinos == 3:\n",
    "                    nuevo_estado[x,y] = 1\n",
    "                # Regla 2: Celula viva con menos de 2 o mas de 3 vecinas, muere\n",
    "                elif estado[x,y] == 1 and (vecinos < 2 or vecinos > 3):\n",
    "                    nuevo_estado[x,y] = 0\n",
    "\n",
    "            # Coordenadas para dibujar un poligono cuadrado\n",
    "            poly = [(x * dim_ancho, y * dim_alto), # Superior izquierdo\n",
    "                    ((x+1) * dim_ancho, y * dim_alto), # Superior derecho\n",
    "                    ((x+1) * dim_ancho, (y+1) * dim_alto), # Inferior derecho\n",
    "                    (x * dim_ancho, (y+1) * dim_alto)] # Inferior izquierdo\n",
    "\n",
    "            if nuevo_estado[x,y] == 0: \n",
    "                pg.draw.polygon(pantalla, (128,128,128), poly, 1) # Colorear celula viva\n",
    "            else:\n",
    "                pg.draw.polygon(pantalla, (255, 255, 255), poly, 0) # Colorear celula muerta\n",
    "    # Actualizar juego\n",
    "    estado = np.copy(nuevo_estado)\n",
    "    # Actualizar\n",
    "    pg.display.flip()\n",
    "pg.quit()"
   ]
  }
 ],
 "metadata": {
  "kernelspec": {
   "display_name": "Python 3 (ipykernel)",
   "language": "python",
   "name": "python3"
  },
  "language_info": {
   "codemirror_mode": {
    "name": "ipython",
    "version": 3
   },
   "file_extension": ".py",
   "mimetype": "text/x-python",
   "name": "python",
   "nbconvert_exporter": "python",
   "pygments_lexer": "ipython3",
   "version": "3.11.4"
  }
 },
 "nbformat": 4,
 "nbformat_minor": 5
}
